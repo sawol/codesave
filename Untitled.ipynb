{
 "cells": [
  {
   "cell_type": "code",
   "execution_count": 1,
   "metadata": {},
   "outputs": [
    {
     "name": "stdout",
     "output_type": "stream",
     "text": [
      "Requirement already satisfied: setuptools in c:\\users\\user\\anaconda3\\lib\\site-packages (50.3.1.post20201107)\n",
      "Requirement already satisfied: wheel in c:\\users\\user\\anaconda3\\lib\\site-packages (0.35.1)\n",
      "Requirement already satisfied: twine in c:\\users\\user\\anaconda3\\lib\\site-packages (3.3.0)\n",
      "Requirement already satisfied: keyring>=15.1 in c:\\users\\user\\anaconda3\\lib\\site-packages (from twine) (21.4.0)\n",
      "Requirement already satisfied: requests>=2.20 in c:\\users\\user\\anaconda3\\lib\\site-packages (from twine) (2.24.0)\n",
      "Requirement already satisfied: colorama>=0.4.3 in c:\\users\\user\\anaconda3\\lib\\site-packages (from twine) (0.4.4)\n",
      "Requirement already satisfied: pkginfo>=1.4.2 in c:\\users\\user\\anaconda3\\lib\\site-packages (from twine) (1.6.1)\n",
      "Requirement already satisfied: tqdm>=4.14 in c:\\users\\user\\anaconda3\\lib\\site-packages (from twine) (4.50.2)\n",
      "Requirement already satisfied: rfc3986>=1.4.0 in c:\\users\\user\\anaconda3\\lib\\site-packages (from twine) (1.4.0)\n",
      "Requirement already satisfied: requests-toolbelt!=0.9.0,>=0.8.0 in c:\\users\\user\\anaconda3\\lib\\site-packages (from twine) (0.9.1)\n",
      "Requirement already satisfied: readme-renderer>=21.0 in c:\\users\\user\\anaconda3\\lib\\site-packages (from twine) (29.0)\n",
      "Requirement already satisfied: pywin32-ctypes!=0.1.0,!=0.1.1; sys_platform == \"win32\" in c:\\users\\user\\anaconda3\\lib\\site-packages (from keyring>=15.1->twine) (0.2.0)\n",
      "Requirement already satisfied: urllib3!=1.25.0,!=1.25.1,<1.26,>=1.21.1 in c:\\users\\user\\anaconda3\\lib\\site-packages (from requests>=2.20->twine) (1.25.11)\n",
      "Requirement already satisfied: chardet<4,>=3.0.2 in c:\\users\\user\\anaconda3\\lib\\site-packages (from requests>=2.20->twine) (3.0.4)\n",
      "Requirement already satisfied: certifi>=2017.4.17 in c:\\users\\user\\anaconda3\\lib\\site-packages (from requests>=2.20->twine) (2020.6.20)\n",
      "Requirement already satisfied: idna<3,>=2.5 in c:\\users\\user\\anaconda3\\lib\\site-packages (from requests>=2.20->twine) (2.10)\n",
      "Requirement already satisfied: six in c:\\users\\user\\anaconda3\\lib\\site-packages (from readme-renderer>=21.0->twine) (1.15.0)\n",
      "Requirement already satisfied: Pygments>=2.5.1 in c:\\users\\user\\anaconda3\\lib\\site-packages (from readme-renderer>=21.0->twine) (2.7.2)\n",
      "Requirement already satisfied: bleach>=2.1.0 in c:\\users\\user\\anaconda3\\lib\\site-packages (from readme-renderer>=21.0->twine) (3.2.1)\n",
      "Requirement already satisfied: docutils>=0.13.1 in c:\\users\\user\\anaconda3\\lib\\site-packages (from readme-renderer>=21.0->twine) (0.16)\n",
      "Requirement already satisfied: webencodings in c:\\users\\user\\anaconda3\\lib\\site-packages (from bleach>=2.1.0->readme-renderer>=21.0->twine) (0.5.1)\n",
      "Requirement already satisfied: packaging in c:\\users\\user\\anaconda3\\lib\\site-packages (from bleach>=2.1.0->readme-renderer>=21.0->twine) (20.4)\n",
      "Requirement already satisfied: pyparsing>=2.0.2 in c:\\users\\user\\anaconda3\\lib\\site-packages (from packaging->bleach>=2.1.0->readme-renderer>=21.0->twine) (2.4.7)\n"
     ]
    }
   ],
   "source": [
    "! pip install setuptools wheel twine"
   ]
  },
  {
   "cell_type": "code",
   "execution_count": 7,
   "metadata": {},
   "outputs": [
    {
     "name": "stdout",
     "output_type": "stream",
     "text": [
      "running bdist_wheel\n",
      "running build\n",
      "running build_py\n",
      "creating build\n",
      "creating build\\lib\n",
      "creating build\\lib\\codesave\n",
      "copying codesave\\main.py -> build\\lib\\codesave\n",
      "copying codesave\\__init__.py -> build\\lib\\codesave\n",
      "installing to build\\bdist.win-amd64\\wheel\n",
      "running install\n",
      "running install_lib\n",
      "creating build\\bdist.win-amd64\n",
      "creating build\\bdist.win-amd64\\wheel\n",
      "creating build\\bdist.win-amd64\\wheel\\codesave\n",
      "copying build\\lib\\codesave\\main.py -> build\\bdist.win-amd64\\wheel\\.\\codesave\n",
      "copying build\\lib\\codesave\\__init__.py -> build\\bdist.win-amd64\\wheel\\.\\codesave\n",
      "running install_egg_info\n",
      "running egg_info\n",
      "creating codesave.egg-info\n",
      "writing codesave.egg-info\\PKG-INFO\n",
      "writing dependency_links to codesave.egg-info\\dependency_links.txt\n",
      "writing requirements to codesave.egg-info\\requires.txt\n",
      "writing top-level names to codesave.egg-info\\top_level.txt\n",
      "writing manifest file 'codesave.egg-info\\SOURCES.txt'\n",
      "reading manifest file 'codesave.egg-info\\SOURCES.txt'\n",
      "writing manifest file 'codesave.egg-info\\SOURCES.txt'\n",
      "Copying codesave.egg-info to build\\bdist.win-amd64\\wheel\\.\\codesave-0.0.1-py3.8.egg-info\n",
      "running install_scripts\n",
      "creating build\\bdist.win-amd64\\wheel\\codesave-0.0.1.dist-info\\WHEEL\n",
      "creating 'dist\\codesave-0.0.1-py3-none-any.whl' and adding 'build\\bdist.win-amd64\\wheel' to it\n",
      "adding 'codesave/__init__.py'\n",
      "adding 'codesave/main.py'\n",
      "adding 'codesave-0.0.1.dist-info/METADATA'\n",
      "adding 'codesave-0.0.1.dist-info/WHEEL'\n",
      "adding 'codesave-0.0.1.dist-info/top_level.txt'\n",
      "adding 'codesave-0.0.1.dist-info/RECORD'\n",
      "removing build\\bdist.win-amd64\\wheel\n"
     ]
    }
   ],
   "source": [
    "! python setup.py bdist_wheel"
   ]
  },
  {
   "cell_type": "code",
   "execution_count": null,
   "metadata": {},
   "outputs": [],
   "source": []
  }
 ],
 "metadata": {
  "kernelspec": {
   "display_name": "Python 3",
   "language": "python",
   "name": "python3"
  },
  "language_info": {
   "codemirror_mode": {
    "name": "ipython",
    "version": 3
   },
   "file_extension": ".py",
   "mimetype": "text/x-python",
   "name": "python",
   "nbconvert_exporter": "python",
   "pygments_lexer": "ipython3",
   "version": "3.8.5"
  }
 },
 "nbformat": 4,
 "nbformat_minor": 4
}
